{
 "cells": [
  {
   "cell_type": "code",
   "execution_count": 25,
   "metadata": {},
   "outputs": [
    {
     "name": "stdout",
     "output_type": "stream",
     "text": [
      "Loaded AI models from JSON file:\n",
      "{'OpenAI': ['gpt-4-turbo', 'gpt-4', 'gpt-4o', 'gpt-3.5-turbo-0125'], 'Google': ['gemini-1.0-pro', 'gemini-1.5-pro'], 'Anthropic': ['claude-3-opus-20240229', 'claude-3-sonnet-20240229', 'claude-3-haiku-20240307'], 'replicate': ['meta/meta-llama-3-8b-instruct', 'meta/meta-llama-3-70b-instruct', 'mistralai/mistral-7b-instruct-v0.2', 'mistralai/mixtral-8x7b-instruct-v0.1']}\n"
     ]
    }
   ],
   "source": [
    "import os\n",
    "from dotenv import load_dotenv\n",
    "import sys\n",
    "import warnings\n",
    "import json\n",
    "from tqdm import TqdmWarning\n",
    "warnings.filterwarnings(\"ignore\", category=TqdmWarning)\n",
    "import warnings\n",
    "\n",
    "# Ignore all warnings\n",
    "warnings.filterwarnings(\"ignore\")\n",
    "\n",
    "# Add atb to path \n",
    "folder_path = 'apprentice-tutors'\n",
    "if folder_path not in sys.path:\n",
    "    sys.path.insert(0, folder_path)\n",
    "folder_path = 'apprentice-tutors/cognitive_models/'\n",
    "if folder_path not in sys.path:\n",
    "    sys.path.insert(0, folder_path)\n",
    "\n",
    "load_dotenv()\n",
    "\n",
    "# Access your variables\n",
    "openai_api_key = os.getenv('OPENAI_API_KEY')\n",
    "google_api_key = os.getenv('GOOGLE_API_KEY')\n",
    "anthropic_api_key = os.getenv('ANTHROPIC_API_KEY')\n",
    "replicate_api_key = os.getenv('REPLICATE_API_TOKEN')\n",
    "\n",
    "# Path to the JSON file\n",
    "file_path = 'ai_models.json'\n",
    "\n",
    "# Load AI models\n",
    "with open(file_path, 'r') as file:\n",
    "    ai_models_loaded = json.load(file)\n",
    "    \n",
    "print(\"Loaded AI models from JSON file:\")\n",
    "print(ai_models_loaded)\n",
    "\n",
    "\n"
   ]
  },
  {
   "cell_type": "code",
   "execution_count": 138,
   "metadata": {},
   "outputs": [],
   "source": [
    "from langchain_core.messages import HumanMessage\n",
    "from langchain_google_genai import ChatGoogleGenerativeAI\n",
    "from langchain_openai import ChatOpenAI\n",
    "from langchain_anthropic import ChatAnthropic\n",
    "from langchain_community.llms import Replicate\n",
    "\n",
    "\n",
    "llm_google = ChatGoogleGenerativeAI(model=\"gemini-1.5-pro\")\n",
    "llm_openai = ChatOpenAI(model=\"gpt-3.5-turbo-0125\", temperature=0)\n",
    "llm_anthropic = ChatAnthropic(temperature=0, model_name=\"claude-3-opus-20240229\")\n",
    "llm_open = Replicate(\n",
    "    model=\"meta/meta-llama-3-8b-instruct\",\n",
    "    model_kwargs={\"temperature\": 0.75, \"max_length\": 500, \"top_p\": 1},\n",
    ")\n",
    "\n"
   ]
  },
  {
   "cell_type": "code",
   "execution_count": 3,
   "metadata": {},
   "outputs": [
    {
     "name": "stderr",
     "output_type": "stream",
     "text": [
      "/Users/tommasocalo/miniconda3/envs/main/lib/python3.9/site-packages/langchain_core/_api/deprecation.py:119: LangChainDeprecationWarning: The method `BaseLLM.__call__` was deprecated in langchain-core 0.1.7 and will be removed in 0.3.0. Use invoke instead.\n",
      "  warn_deprecated(\n"
     ]
    },
    {
     "data": {
      "text/plain": [
       "\"Let's break it down step by step:\\n\\n1. Dogs are living creatures that belong to the species Canis lupus familiaris.\\n2. Dogs do not possess the cognitive abilities or physical attributes necessary for operating a vehicle, such as complex problem-solving, fine motor skills, and hand-eye coordination.\\n3. Dogs do not have the physical ability to use a vehicle's controls, such as pedals, gears, and steering wheel, due to their lack of opposable thumbs and fingers.\\n4. Even if a dog could somehow magically operate the controls, it would lack the cognitive capacity to understand traffic rules, road signs, and complex driving scenarios.\\n5. Therefore, it is not possible for a dog to drive a car.\\n\\nAnswer: No\""
      ]
     },
     "execution_count": 3,
     "metadata": {},
     "output_type": "execute_result"
    }
   ],
   "source": []
  },
  {
   "cell_type": "code",
   "execution_count": 175,
   "metadata": {},
   "outputs": [],
   "source": [
    "\n",
    "from exponential_equations.exponential_equations_common_base import *\n",
    "from sympy import latex\n",
    "def generate_and_solve_exp():\n",
    "  instance = exponential_equations_common_base_problem()\n",
    "  # solve the instance\n",
    "  x = symbols('x')\n",
    "  exponential_equation = sp.simplify(parse_latex(instance))\n",
    "  lhs, rhs = exponential_equation.lhs, exponential_equation.rhs\n",
    "  linear_equation = Eq(lhs.as_base_exp()[1], rhs.as_base_exp()[1], evaluate=False)\n",
    "  solution = solve(linear_equation, x)[0]\n",
    "\n",
    "  return instance, latex(solution)"
   ]
  },
  {
   "cell_type": "code",
   "execution_count": 189,
   "metadata": {},
   "outputs": [
    {
     "name": "stdout",
     "output_type": "stream",
     "text": [
      "ANTLR runtime and generated code versions disagree: 4.13.1!=4.11.1\n",
      "ANTLR runtime and generated code versions disagree: 4.13.1!=4.11.1\n"
     ]
    },
    {
     "data": {
      "text/plain": [
       "('4^{x - 3} = 4^{6 - 5 x}', '\\\\frac{3}{2}')"
      ]
     },
     "execution_count": 189,
     "metadata": {},
     "output_type": "execute_result"
    }
   ],
   "source": [
    "instance, solution = generate_and_solve_exp()\n",
    "instance, solution"
   ]
  },
  {
   "cell_type": "code",
   "execution_count": 190,
   "metadata": {},
   "outputs": [],
   "source": [
    "prompt = f\"\"\"\n",
    "You will be solving a math question that is provided to you as a string. Your task is to parse the question, solve it step-by-step, and provide the final answer in LaTeX format.\n",
    "\n",
    "Here is the math question:\n",
    "<question>\n",
    "{instance}\n",
    "</question>\n",
    "\n",
    "First, think through the problem step-by-step in <scratchpad> tags. Break down the problem into smaller sub-problems if necessary, and solve each one in a logical order. Show your work and reasoning at each step.\n",
    "\n",
    "After you have thought through the problem and arrived at a final answer, provide the answer in LaTeX format inside <answer> tags.\n",
    "\n",
    "Remember to only use LaTeX for mathematical equations and symbols in your final answer - the rest of the answer should be in plain text.\n",
    "\n",
    "only return the mathematical expression following \"x = \".\n",
    "\n",
    "Let's solve this math problem!\n",
    "\"\"\"\n",
    "prediction = llm_open(prompt)\n",
    "#prediction = llm_openai.invoke(prompt).content"
   ]
  },
  {
   "cell_type": "code",
   "execution_count": 231,
   "metadata": {},
   "outputs": [],
   "source": [
    "import re\n",
    "\n",
    "def extract_answer(text):\n",
    "    pattern = r\"<answer>\\s*(?:x\\s*=\\s*)?(.*?)\\s*</answer>\"\n",
    "    match = re.search(pattern, text, re.DOTALL)\n",
    "    \n",
    "    if match:\n",
    "        answer = match.group(1).strip()\n",
    "        # Remove any dollar signs inside the answer\n",
    "        answer = answer.replace(\"$\", \"\")\n",
    "        \n",
    "        # Check if \"x=\" is present with optional spaces and take the part after it\n",
    "        x_pattern = r\"x\\s*=\\s*(.*)\"\n",
    "        x_match = re.search(x_pattern, answer)\n",
    "        if x_match:\n",
    "            answer = x_match.group(1).strip()\n",
    "        \n",
    "        return answer\n",
    "    else:\n",
    "        return None"
   ]
  },
  {
   "cell_type": "code",
   "execution_count": 232,
   "metadata": {},
   "outputs": [
    {
     "data": {
      "text/plain": [
       "'\\\\frac{3}{2}'"
      ]
     },
     "execution_count": 232,
     "metadata": {},
     "output_type": "execute_result"
    }
   ],
   "source": [
    "solution"
   ]
  },
  {
   "cell_type": "code",
   "execution_count": 233,
   "metadata": {},
   "outputs": [
    {
     "name": "stdout",
     "output_type": "stream",
     "text": [
      "<scratchpad>\n",
      "First, let's start by noticing that both sides of the equation have the same base, which is 4. This allows us to use the rule of exponents that states that a^m = a^n if and only if m = n.\n",
      "\n",
      "So, we can rewrite the equation as:\n",
      "\n",
      "4^(x-3) = 4^(6-5x)\n",
      "\n",
      "Now, we can use the rule of exponents to equate the exponents:\n",
      "\n",
      "x-3 = 6-5x\n",
      "\n",
      "Next, we can add 3 to both sides of the equation to get:\n",
      "\n",
      "x = 6-5x+3\n",
      "\n",
      "Now, we can add 5x to both sides of the equation to get:\n",
      "\n",
      "6 = 6x\n",
      "\n",
      "Finally, we can divide both sides of the equation by 6 to solve for x:\n",
      "\n",
      "x = 6/6\n",
      "\n",
      "x = 1\n",
      "\n",
      "</scratchpad>\n",
      "\n",
      "<answer>\n",
      "$\\boxed{x = 1}$\n"
     ]
    }
   ],
   "source": [
    "print(prediction)"
   ]
  },
  {
   "cell_type": "code",
   "execution_count": 230,
   "metadata": {},
   "outputs": [
    {
     "data": {
      "text/plain": [
       "''"
      ]
     },
     "execution_count": 230,
     "metadata": {},
     "output_type": "execute_result"
    }
   ],
   "source": [
    "extract_answer(prediction)"
   ]
  },
  {
   "cell_type": "code",
   "execution_count": 200,
   "metadata": {},
   "outputs": [
    {
     "data": {
      "text/plain": [
       "'\\\\frac{3}{2}'"
      ]
     },
     "execution_count": 200,
     "metadata": {},
     "output_type": "execute_result"
    }
   ],
   "source": [
    "solution"
   ]
  },
  {
   "cell_type": "code",
   "execution_count": null,
   "metadata": {},
   "outputs": [],
   "source": []
  },
  {
   "cell_type": "code",
   "execution_count": null,
   "metadata": {},
   "outputs": [],
   "source": []
  }
 ],
 "metadata": {
  "kernelspec": {
   "display_name": "main",
   "language": "python",
   "name": "python3"
  },
  "language_info": {
   "codemirror_mode": {
    "name": "ipython",
    "version": 3
   },
   "file_extension": ".py",
   "mimetype": "text/x-python",
   "name": "python",
   "nbconvert_exporter": "python",
   "pygments_lexer": "ipython3",
   "version": "3.9.19"
  }
 },
 "nbformat": 4,
 "nbformat_minor": 2
}
